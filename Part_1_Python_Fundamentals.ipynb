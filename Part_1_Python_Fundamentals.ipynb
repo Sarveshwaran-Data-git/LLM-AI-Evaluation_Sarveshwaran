{
 "cells": [
  {
   "cell_type": "markdown",
   "id": "0322781e-5d0d-470e-bd0e-ef598520e113",
   "metadata": {},
   "source": [
    "# Python Fundamentals "
   ]
  },
  {
   "cell_type": "markdown",
   "id": "84fbc363",
   "metadata": {},
   "source": [
    "# Data Structures and Manipulation"
   ]
  },
  {
   "cell_type": "code",
   "execution_count": 1,
   "id": "9fe9a3bb",
   "metadata": {},
   "outputs": [
    {
     "name": "stdout",
     "output_type": "stream",
     "text": [
      "[10, 9, 8, 7, 6, 5, 4, 3, 2, 1, 0]\n"
     ]
    }
   ],
   "source": [
    "#Implement a function to find unique elements from a list and sort them in descending order\n",
    "\n",
    "\n",
    "def unique_elements_sorted_desc(lst):\n",
    "    \"\"\"\n",
    "    Finds unique elements from a list and sorts them in descending order.\n",
    "    \n",
    "    Args:\n",
    "        lst (list): Input list containing elements.\n",
    "\n",
    "    Returns:\n",
    "        list: Unique elements from the input list sorted in descending order.\n",
    "    \"\"\"\n",
    "    # Find unique elements from the list\n",
    "    unique_elements = list(set(lst))\n",
    "    # Sort the unique elements in descending order\n",
    "    unique_elements.sort(reverse=True)\n",
    "    return unique_elements\n",
    "\n",
    "# Test case with inputs\n",
    "my_list = [3, 8, 1, 2, 9, 0, 10, 0, 2, 7, 4, 5, 1, 3, 6, 7]\n",
    "unique_sorted = unique_elements_sorted_desc(my_list)\n",
    "print(unique_sorted)\n"
   ]
  },
  {
   "cell_type": "code",
   "execution_count": 2,
   "id": "40c052b3",
   "metadata": {},
   "outputs": [
    {
     "name": "stdout",
     "output_type": "stream",
     "text": [
      "{'a': 1, 'b_c': 2, 'b_d_e': 3, 'f': 4}\n"
     ]
    }
   ],
   "source": [
    "#Converting a nested dictionary structure into a flattened dictionary\n",
    "\n",
    "def flatten_dict(d, parent_key='', sep='_'):\n",
    "    \"\"\"\n",
    "    Converts a nested dictionary structure into a flattened dictionary.\n",
    "\n",
    "    Args:\n",
    "        d (dict): Input nested dictionary.\n",
    "        parent_key (str, optional): Key representing the parent dictionary. Defaults to ''.\n",
    "        sep (str, optional): Separator used to join keys. Defaults to '_'.\n",
    "\n",
    "    Returns:\n",
    "        dict: Flattened dictionary.\n",
    "    \"\"\"\n",
    "    items = []\n",
    "    for k, v in d.items():\n",
    "        new_key = parent_key + sep + k if parent_key else k\n",
    "        if isinstance(v, dict):\n",
    "            # Recursively flatten nested dictionaries\n",
    "            items.extend(flatten_dict(v, new_key, sep=sep).items())\n",
    "        else:\n",
    "            items.append((new_key, v))\n",
    "    return dict(items)\n",
    "\n",
    "# Test case with inputs\n",
    "nested_dict = {\n",
    "    'a': 1,\n",
    "    'b': {\n",
    "        'c': 2,\n",
    "        'd': {\n",
    "            'e': 3\n",
    "        }\n",
    "    },\n",
    "    'f': 4\n",
    "}\n",
    "flattened_dict = flatten_dict(nested_dict)\n",
    "print(flattened_dict)\n",
    "# Output: {'a': 1, 'b_c': 2, 'b_d_e': 3, 'f': 4}"
   ]
  },
  {
   "cell_type": "markdown",
   "id": "0e38219d",
   "metadata": {},
   "source": [
    "# Object-Oriented Programming (OOP)\n"
   ]
  },
  {
   "cell_type": "code",
   "execution_count": 3,
   "id": "a1795935",
   "metadata": {},
   "outputs": [
    {
     "name": "stdin",
     "output_type": "stream",
     "text": [
      "Enter the X number: 5\n",
      "Enter the Y number: 3\n"
     ]
    },
    {
     "name": "stdout",
     "output_type": "stream",
     "text": [
      "8\n",
      "2\n",
      "15\n",
      "1.6666666666666667\n",
      "Error: Division by zero.\n",
      "None\n",
      "-0.9589242746631385\n",
      "0.28366218546322625\n",
      "-3.380515006246586\n"
     ]
    }
   ],
   "source": [
    "import math\n",
    "\n",
    "x = int(input(\"Enter the X number:\"))\n",
    "y = int(input(\"Enter the Y number:\"))\n",
    "\n",
    "class Calculator:\n",
    "    def add(self, x, y):\n",
    "        return x + y\n",
    "    \n",
    "    def subtract(self, x, y):\n",
    "        return x - y\n",
    "    \n",
    "    def multiply(self, x, y):\n",
    "        return x * y\n",
    "    \n",
    "    def divide(self, x, y):\n",
    "        try:\n",
    "            return x / y\n",
    "        except ZeroDivisionError:\n",
    "            print(\"Error: Division by zero.\")\n",
    "            return None\n",
    "\n",
    "class ScientificCalculator(Calculator):\n",
    "    def sin(self, x):\n",
    "        return math.sin(x)\n",
    "    \n",
    "    def cos(self, x):\n",
    "        return math.cos(x)\n",
    "    \n",
    "    def tan(self, x):\n",
    "        return math.tan(x)\n",
    "\n",
    "# Example usage:\n",
    "basic_calc = Calculator()\n",
    "print(basic_calc.add(x, y))  # Output: 5 + 3 = 8\n",
    "print(basic_calc.subtract(x, y))  # Output: 5 - 3 = 2\n",
    "print(basic_calc.multiply(x, y))  # Output: 5 * 3 = 15\n",
    "print(basic_calc.divide(x, y))  # Output: 5 / 3 = 1.6666666666666667\n",
    "print(basic_calc.divide(x, 0))  # Output: Error: Division by zero. 5 / 0 = None\n",
    "\n",
    "scientific_calc = ScientificCalculator()\n",
    "print(scientific_calc.sin(x))  # Output: sin(0) = 0.0\n",
    "print(scientific_calc.cos(x))  # Output: cos(0) = 1.0\n",
    "print(scientific_calc.tan(x))  # Output: tan(0) = 0.0\n"
   ]
  },
  {
   "cell_type": "markdown",
   "id": "49258489",
   "metadata": {},
   "source": [
    "# File I/O:"
   ]
  },
  {
   "cell_type": "code",
   "execution_count": 4,
   "id": "1df81708",
   "metadata": {},
   "outputs": [],
   "source": [
    "#read the file\n",
    "import pandas as pd\n",
    "Electric =pd.read_csv(r\"D:\\education\\data_science\\Interview\\Electric_Production.csv\")"
   ]
  },
  {
   "cell_type": "code",
   "execution_count": 5,
   "id": "bb3b53b8",
   "metadata": {
    "scrolled": true
   },
   "outputs": [
    {
     "data": {
      "text/html": [
       "<div>\n",
       "<style scoped>\n",
       "    .dataframe tbody tr th:only-of-type {\n",
       "        vertical-align: middle;\n",
       "    }\n",
       "\n",
       "    .dataframe tbody tr th {\n",
       "        vertical-align: top;\n",
       "    }\n",
       "\n",
       "    .dataframe thead th {\n",
       "        text-align: right;\n",
       "    }\n",
       "</style>\n",
       "<table border=\"1\" class=\"dataframe\">\n",
       "  <thead>\n",
       "    <tr style=\"text-align: right;\">\n",
       "      <th></th>\n",
       "      <th>DATE</th>\n",
       "      <th>IPG2211A2N</th>\n",
       "    </tr>\n",
       "  </thead>\n",
       "  <tbody>\n",
       "    <tr>\n",
       "      <th>0</th>\n",
       "      <td>1/1/1985</td>\n",
       "      <td>72.5052</td>\n",
       "    </tr>\n",
       "    <tr>\n",
       "      <th>1</th>\n",
       "      <td>2/1/1985</td>\n",
       "      <td>70.6720</td>\n",
       "    </tr>\n",
       "    <tr>\n",
       "      <th>2</th>\n",
       "      <td>3/1/1985</td>\n",
       "      <td>62.4502</td>\n",
       "    </tr>\n",
       "    <tr>\n",
       "      <th>3</th>\n",
       "      <td>4/1/1985</td>\n",
       "      <td>57.4714</td>\n",
       "    </tr>\n",
       "    <tr>\n",
       "      <th>4</th>\n",
       "      <td>5/1/1985</td>\n",
       "      <td>55.3151</td>\n",
       "    </tr>\n",
       "  </tbody>\n",
       "</table>\n",
       "</div>"
      ],
      "text/plain": [
       "       DATE  IPG2211A2N\n",
       "0  1/1/1985     72.5052\n",
       "1  2/1/1985     70.6720\n",
       "2  3/1/1985     62.4502\n",
       "3  4/1/1985     57.4714\n",
       "4  5/1/1985     55.3151"
      ]
     },
     "execution_count": 5,
     "metadata": {},
     "output_type": "execute_result"
    }
   ],
   "source": [
    "#review the head\n",
    "Electric.head()"
   ]
  },
  {
   "cell_type": "code",
   "execution_count": 6,
   "id": "3632e08b",
   "metadata": {},
   "outputs": [
    {
     "name": "stdout",
     "output_type": "stream",
     "text": [
      "Series([], dtype: int64)\n"
     ]
    }
   ],
   "source": [
    "#checking if there is any null value is availalbe \n",
    "missing_val_count_by_column = (Electric.isnull().sum())\n",
    "print(missing_val_count_by_column[missing_val_count_by_column > 0])"
   ]
  },
  {
   "cell_type": "code",
   "execution_count": 7,
   "id": "b9be4ead",
   "metadata": {},
   "outputs": [
    {
     "data": {
      "text/html": [
       "<div>\n",
       "<style scoped>\n",
       "    .dataframe tbody tr th:only-of-type {\n",
       "        vertical-align: middle;\n",
       "    }\n",
       "\n",
       "    .dataframe tbody tr th {\n",
       "        vertical-align: top;\n",
       "    }\n",
       "\n",
       "    .dataframe thead th {\n",
       "        text-align: right;\n",
       "    }\n",
       "</style>\n",
       "<table border=\"1\" class=\"dataframe\">\n",
       "  <thead>\n",
       "    <tr style=\"text-align: right;\">\n",
       "      <th></th>\n",
       "      <th>IPG2211A2N</th>\n",
       "    </tr>\n",
       "  </thead>\n",
       "  <tbody>\n",
       "    <tr>\n",
       "      <th>count</th>\n",
       "      <td>397.000000</td>\n",
       "    </tr>\n",
       "    <tr>\n",
       "      <th>mean</th>\n",
       "      <td>88.847218</td>\n",
       "    </tr>\n",
       "    <tr>\n",
       "      <th>std</th>\n",
       "      <td>15.387834</td>\n",
       "    </tr>\n",
       "    <tr>\n",
       "      <th>min</th>\n",
       "      <td>55.315100</td>\n",
       "    </tr>\n",
       "    <tr>\n",
       "      <th>25%</th>\n",
       "      <td>77.105200</td>\n",
       "    </tr>\n",
       "    <tr>\n",
       "      <th>50%</th>\n",
       "      <td>89.779500</td>\n",
       "    </tr>\n",
       "    <tr>\n",
       "      <th>75%</th>\n",
       "      <td>100.524400</td>\n",
       "    </tr>\n",
       "    <tr>\n",
       "      <th>max</th>\n",
       "      <td>129.404800</td>\n",
       "    </tr>\n",
       "  </tbody>\n",
       "</table>\n",
       "</div>"
      ],
      "text/plain": [
       "       IPG2211A2N\n",
       "count  397.000000\n",
       "mean    88.847218\n",
       "std     15.387834\n",
       "min     55.315100\n",
       "25%     77.105200\n",
       "50%     89.779500\n",
       "75%    100.524400\n",
       "max    129.404800"
      ]
     },
     "execution_count": 7,
     "metadata": {},
     "output_type": "execute_result"
    }
   ],
   "source": [
    "#want to know the statistics of numerical data\n",
    "Electric.describe()"
   ]
  },
  {
   "cell_type": "code",
   "execution_count": 8,
   "id": "146ee30d",
   "metadata": {},
   "outputs": [],
   "source": [
    "# here null values are not avilable, if incase is there, Impute null values with a specific value (use mean vlue '88')\n",
    "imputed_value = 88\n",
    "Electric.fillna(imputed_value, inplace=True)"
   ]
  },
  {
   "cell_type": "code",
   "execution_count": 9,
   "id": "97332afd",
   "metadata": {},
   "outputs": [
    {
     "name": "stdout",
     "output_type": "stream",
     "text": [
      "          DATE  IPG2211A2N\n",
      "0     1/1/1985     72.5052\n",
      "1     2/1/1985     70.6720\n",
      "2     3/1/1985     62.4502\n",
      "3     4/1/1985     57.4714\n",
      "4     5/1/1985     55.3151\n",
      "..         ...         ...\n",
      "392   9/1/2017     98.6154\n",
      "393  10/1/2017     93.6137\n",
      "394  11/1/2017     97.3359\n",
      "395  12/1/2017    114.7212\n",
      "396   1/1/2018    129.4048\n",
      "\n",
      "[397 rows x 2 columns]\n"
     ]
    }
   ],
   "source": [
    "print(Electric)"
   ]
  },
  {
   "cell_type": "code",
   "execution_count": 10,
   "id": "26ddfd5b",
   "metadata": {},
   "outputs": [],
   "source": [
    "# Normalize a specific numerical column ('IPG2211A2N')\n",
    "numerical_column = 'IPG2211A2N'\n",
    "min_value = Electric[numerical_column].min()\n",
    "max_value = Electric[numerical_column].max()\n",
    "Electric[numerical_column] = (Electric[numerical_column] - min_value) / (max_value - min_value)"
   ]
  },
  {
   "cell_type": "code",
   "execution_count": 11,
   "id": "8b9e5372",
   "metadata": {},
   "outputs": [
    {
     "name": "stdout",
     "output_type": "stream",
     "text": [
      "Statistics of the normalized column:\n",
      "count    397.000000\n",
      "mean       0.452588\n",
      "std        0.207692\n",
      "min        0.000000\n",
      "25%        0.294104\n",
      "50%        0.465171\n",
      "75%        0.610197\n",
      "max        1.000000\n",
      "Name: IPG2211A2N, dtype: float64\n"
     ]
    }
   ],
   "source": [
    "# Cross-check the normalization\n",
    "normalized_column = Electric[numerical_column]\n",
    "print(\"Statistics of the normalized column:\")\n",
    "print(normalized_column.describe())"
   ]
  },
  {
   "cell_type": "code",
   "execution_count": 12,
   "id": "a92ab507",
   "metadata": {},
   "outputs": [],
   "source": [
    "# Write the cleaned data to a new JSON file\n",
    "Electric.to_json('D:\\education\\data_science\\Interview\\cleaned_data.json', orient='records')"
   ]
  },
  {
   "cell_type": "code",
   "execution_count": 13,
   "id": "0b54f768",
   "metadata": {},
   "outputs": [
    {
     "name": "stdout",
     "output_type": "stream",
     "text": [
      "          DATE  IPG2211A2N\n",
      "0     1/1/1985    0.232017\n",
      "1     2/1/1985    0.207274\n",
      "2     3/1/1985    0.096304\n",
      "3     4/1/1985    0.029104\n",
      "4     5/1/1985    0.000000\n",
      "..         ...         ...\n",
      "392   9/1/2017    0.584431\n",
      "393  10/1/2017    0.516922\n",
      "394  11/1/2017    0.567161\n",
      "395  12/1/2017    0.801813\n",
      "396   1/1/2018    1.000000\n",
      "\n",
      "[397 rows x 2 columns]\n"
     ]
    }
   ],
   "source": [
    "print(Electric)"
   ]
  }
 ],
 "metadata": {
  "kernelspec": {
   "display_name": "Python 3 (ipykernel)",
   "language": "python",
   "name": "python3"
  },
  "language_info": {
   "codemirror_mode": {
    "name": "ipython",
    "version": 3
   },
   "file_extension": ".py",
   "mimetype": "text/x-python",
   "name": "python",
   "nbconvert_exporter": "python",
   "pygments_lexer": "ipython3",
   "version": "3.11.3"
  }
 },
 "nbformat": 4,
 "nbformat_minor": 5
}
